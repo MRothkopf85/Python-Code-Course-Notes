{
 "cells": [
  {
   "cell_type": "code",
   "execution_count": 3,
   "metadata": {},
   "outputs": [],
   "source": [
    "from decimal import *\n",
    "\n",
    "def pi_game():\n",
    "\n",
    "\n",
    "    working = True\n",
    "\n",
    "    while True:\n",
    "        \n",
    "        try:\n",
    "            x = int(input('Please enter the number of digits between 0 and 100 to calculate PI '))\n",
    "        \n",
    "        except ValueError:\n",
    "            print('I need a whole number, dumb dumb')\n",
    "            continue\n",
    "        \n",
    "        if x > 100:\n",
    "            print(\"Please enter a number between 0 and 100\")\n",
    "            continue\n",
    "            \n",
    "        \n",
    "   \n",
    "        \n",
    "        else:\n",
    "            getcontext().prec = x + 1\n",
    "            print(Decimal(22) / (7))\n",
    "\n",
    "            replay = input(\"\\nWould you like to try again? \")\n",
    "            if replay.lower() == 'y':\n",
    "                continue\n",
    "            else:\n",
    "                print(\"Thank you for using da PI maker :)\")\n",
    "                break    \n",
    "\n"
   ]
  },
  {
   "cell_type": "code",
   "execution_count": 4,
   "metadata": {},
   "outputs": [
    {
     "name": "stdout",
     "output_type": "stream",
     "text": [
      "Please enter the number of digits between 0 and 100 to calculate PI 30\n",
      "3.142857142857142857142857142857\n",
      "\n",
      "Would you like to try again? y\n",
      "Please enter the number of digits between 0 and 100 to calculate PI dgthaet\n",
      "I need a whole number, dumb dumb\n",
      "Please enter the number of digits between 0 and 100 to calculate PI 205\n",
      "Please enter a number between 0 and 100\n",
      "Please enter the number of digits between 0 and 100 to calculate PI 63\n",
      "3.142857142857142857142857142857142857142857142857142857142857143\n",
      "\n",
      "Would you like to try again? n\n",
      "Thank you for using da PI maker :)\n"
     ]
    }
   ],
   "source": [
    "pi_game()"
   ]
  },
  {
   "cell_type": "code",
   "execution_count": null,
   "metadata": {},
   "outputs": [],
   "source": []
  },
  {
   "cell_type": "code",
   "execution_count": null,
   "metadata": {},
   "outputs": [],
   "source": []
  }
 ],
 "metadata": {
  "kernelspec": {
   "display_name": "Python 3",
   "language": "python",
   "name": "python3"
  },
  "language_info": {
   "codemirror_mode": {
    "name": "ipython",
    "version": 3
   },
   "file_extension": ".py",
   "mimetype": "text/x-python",
   "name": "python",
   "nbconvert_exporter": "python",
   "pygments_lexer": "ipython3",
   "version": "3.6.5"
  }
 },
 "nbformat": 4,
 "nbformat_minor": 2
}
